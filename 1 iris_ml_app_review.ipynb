{
 "cells": [
  {
   "cell_type": "markdown",
   "id": "b5838eb2",
   "metadata": {},
   "source": [
    "## Code Review\n",
    "\n",
    "- This section is to simplify our code review."
   ]
  },
  {
   "cell_type": "code",
   "execution_count": null,
   "id": "35216064",
   "metadata": {},
   "outputs": [],
   "source": [
    "# Import all the necessary libraries\n",
    "import streamlit as st\n",
    "import pandas as pd\n",
    "from sklearn import datasets\n",
    "from sklearn.ensemble import RandomForestClassifier"
   ]
  },
  {
   "cell_type": "markdown",
   "id": "c96fcb79",
   "metadata": {},
   "source": [
    "- `st.write` with string as arguments will print a formatted Markdown string. \n",
    "- The `#` controls the font size."
   ]
  },
  {
   "cell_type": "code",
   "execution_count": null,
   "id": "32307957",
   "metadata": {},
   "outputs": [],
   "source": [
    "st.write(\"\"\"\n",
    "# Simple Iris Flower Prediction App\n",
    "This app predicts the **Iris flower** type!\n",
    "\"\"\")\n",
    "\n",
    "# This will print the title of the sidebar.\n",
    "st.sidebar.header('User Input Parameters')"
   ]
  },
  {
   "cell_type": "markdown",
   "id": "de9f4957",
   "metadata": {},
   "source": [
    "- This function gathers / prepares the input data for prediction. \n",
    "- **Slider** is selected as the **input** method.\n",
    "  - Eg `sepal_length` ranges from 4.3 to 7.9, and defaults at 5.4\n",
    "- **data** column names MUST match the one used in the dataset. \n",
    "- The inputs are returned as a dataframe"
   ]
  },
  {
   "cell_type": "code",
   "execution_count": null,
   "id": "792b42c8",
   "metadata": {},
   "outputs": [],
   "source": [
    "def user_input_features():\n",
    "    sepal_length = st.sidebar.slider('Sepal length', 4.3, 7.9, 5.4)\n",
    "    sepal_width = st.sidebar.slider('Sepal width', 2.0, 4.4, 3.4)\n",
    "    petal_length = st.sidebar.slider('Petal length', 1.0, 6.9, 1.3)\n",
    "    petal_width = st.sidebar.slider('Petal width', 0.1, 2.5, 0.2)\n",
    "    \n",
    "    data = {'sepal_length': sepal_length,\n",
    "            'sepal_width': sepal_width,\n",
    "            'petal_length': petal_length,\n",
    "            'petal_width': petal_width}\n",
    "    \n",
    "    features = pd.DataFrame(data, index=[0])\n",
    "    \n",
    "    return features"
   ]
  },
  {
   "cell_type": "code",
   "execution_count": null,
   "id": "285bff73",
   "metadata": {},
   "outputs": [],
   "source": [
    "df = user_input_features()               # Call user_input_features(), and stores the features to \"df\"\n",
    "\n",
    "st.subheader('User Input parameters')    # Print subheader\n",
    "st.write(df)                             # Display the content of df"
   ]
  },
  {
   "cell_type": "markdown",
   "id": "f6672543",
   "metadata": {},
   "source": [
    "- Load the iris dataset using sklearn. \n",
    "- All features assigned to `X` and target to `y`"
   ]
  },
  {
   "cell_type": "code",
   "execution_count": null,
   "id": "ede82746",
   "metadata": {},
   "outputs": [],
   "source": [
    "iris = datasets.load_iris()\n",
    "X = iris.data\n",
    "y = iris.target"
   ]
  },
  {
   "attachments": {},
   "cell_type": "markdown",
   "id": "34e75bdb",
   "metadata": {},
   "source": [
    "- Train a Random Forest Classifier by fitting the data."
   ]
  },
  {
   "cell_type": "code",
   "execution_count": null,
   "id": "f7613c4c",
   "metadata": {},
   "outputs": [],
   "source": [
    "clf = RandomForestClassifier()\n",
    "clf.fit(X, y)"
   ]
  },
  {
   "attachments": {},
   "cell_type": "markdown",
   "id": "7f521ce3",
   "metadata": {},
   "source": [
    "- Make predictions using inputs\n",
    "- Calculate prediction probability"
   ]
  },
  {
   "cell_type": "code",
   "execution_count": null,
   "id": "72e638fa",
   "metadata": {},
   "outputs": [],
   "source": [
    "prediction = clf.predict(df)\n",
    "prediction_proba = clf.predict_proba(df)"
   ]
  },
  {
   "attachments": {},
   "cell_type": "markdown",
   "id": "4da19e9c",
   "metadata": {},
   "source": [
    "- Print a subheader and print the target class labels and their corresponding index number\n",
    "- Print subheaders for both “Prediction” and “Prediction Probability” and the corresponding results"
   ]
  },
  {
   "cell_type": "code",
   "execution_count": null,
   "id": "02eded28",
   "metadata": {},
   "outputs": [],
   "source": [
    "st.subheader('Class labels and their corresponding index number')\n",
    "st.write(iris.target_names)\n",
    "\n",
    "st.subheader('Prediction')\n",
    "st.write(iris.target_names[prediction])\n",
    "\n",
    "st.subheader('Prediction Probability')\n",
    "st.write(prediction_proba)"
   ]
  }
 ],
 "metadata": {
  "kernelspec": {
   "display_name": "Python 3 (ipykernel)",
   "language": "python",
   "name": "python3"
  },
  "language_info": {
   "codemirror_mode": {
    "name": "ipython",
    "version": 3
   },
   "file_extension": ".py",
   "mimetype": "text/x-python",
   "name": "python",
   "nbconvert_exporter": "python",
   "pygments_lexer": "ipython3",
   "version": "3.8.10"
  }
 },
 "nbformat": 4,
 "nbformat_minor": 5
}
